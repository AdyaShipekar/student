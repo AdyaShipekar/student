{
 "cells": [
  {
   "cell_type": "code",
   "execution_count": null,
   "id": "e90135fa",
   "metadata": {},
   "outputs": [],
   "source": [
    "---\n",
    "toc: True\n",
    "layout: post\n",
    "data: tools\n",
    "title: Varclasses HW\n",
    "description: Teaching Variables and Classes\n",
    "permalink: /tools/VarClass\n",
    "breadcrumb: True\n",
    "categories: [Homework]\n",
    "---"
   ]
  },
  {
   "cell_type": "markdown",
   "id": "12325025",
   "metadata": {},
   "source": [
    "## POPCORN HACK 1 A short program about variables\n"
   ]
  },
  {
   "cell_type": "code",
   "execution_count": null,
   "id": "cd165c29",
   "metadata": {},
   "outputs": [
    {
     "data": {
      "text/html": [
       "\n",
       "<div id=\"outputPH2\">Results will appear here:<br></div>\n",
       "\n",
       "<script>\n",
       "\n",
       "(() => {\n",
       "\n",
       "const output = document.getElementById(\"outputPH2\");\n",
       "\n",
       "let name = \"Adya\";\n",
       "let age = 14;\n",
       "\n",
       "console.log(\"Hi, my name is \" + name);\n",
       "output.innerText += \"Hi, my name is \" + name + \"\\n\";\n",
       "console.log(\"I am \" + age + \" years old.\");\n",
       "output.innerText += \"I am \" + age + \" years old.\\n\";\n",
       "\n",
       "let nextYearAge = age + 1;\n",
       "\n",
       "// TODO: Print out the result\n",
       "// Example: \"Next year I will be 11 years old.\"\n",
       "console.log(\"Next year I will be \" + nextYearAge + \" years old.\");\n",
       "output.innerText += \"Next year I will be \" + nextYearAge + \" years old.\\n\";\n",
       "})();\n",
       "</script>\n"
      ],
      "text/plain": [
       "<IPython.core.display.HTML object>"
      ]
     },
     "metadata": {},
     "output_type": "display_data"
    }
   ],
   "source": [
    "%%html\n",
    "\n",
    "<div id=\"outputPH1\">Results will appear here:<br></div>\n",
    "\n",
    "<script>\n",
    "\n",
    "(() => {\n",
    "\n",
    "const output = document.getElementById(\"outputPH1\");\n",
    "\n",
    "let name = \"Adya\";\n",
    "let age = 14;\n",
    "\n",
    "console.log(\"Hi, my name is \" + name);\n",
    "output.innerText += \"Hi, my name is \" + name + \"\\n\";\n",
    "console.log(\"I am \" + age + \" years old.\");\n",
    "output.innerText += \"I am \" + age + \" years old.\\n\";\n",
    "\n",
    "let nextYearAge = age + 1;\n",
    "\n",
    "// TODO: Print out the result\n",
    "// Example: \"Next year I will be 11 years old.\"\n",
    "console.log(\"Next year I will be \" + nextYearAge + \" years old.\");\n",
    "output.innerText += \"Next year I will be \" + nextYearAge + \" years old.\\n\";\n",
    "})();\n",
    "</script>\n"
   ]
  },
  {
   "cell_type": "markdown",
   "id": "8b9b8297",
   "metadata": {},
   "source": [
    "## POPCORN HACK 2 A short program about classes\n"
   ]
  },
  {
   "cell_type": "code",
   "execution_count": null,
   "id": "90501500",
   "metadata": {},
   "outputs": [
    {
     "data": {
      "text/html": [
       "\n",
       "<div>\n",
       "  <h3>Program Output</h3>\n",
       "  <div id=\"outputPH2\">Results will appear here:<br></div>\n",
       "</div>\n",
       "\n",
       "<script>\n",
       "\n",
       "(() => {\n",
       "\n",
       "const output = document.getElementById(\"outputPH2\");\n",
       "\n",
       "\n",
       "class Animal {\n",
       "  // Initialize each animal with a name, sound, and type\n",
       "  constructor(name, sound, kind) {\n",
       "    this.name = name;\n",
       "    this.sound = sound;\n",
       "    this.kind = kind;\n",
       "  }\n",
       "\n",
       "  // Make the animal speak\n",
       "  speak() {\n",
       "    console.log(this.name + \" the \" + this.kind + \" says \" + this.sound + \"!\");\n",
       "    output.innerText += this.name + \" the \" + this.kind + \" says \" + this.sound + \"!\\n\";\n",
       "  }\n",
       "\n",
       "  // Bonus method: describe the animal\n",
       "  describe() {\n",
       "    console.log(this.name + \" is a \" + this.kind + \" and is very friendly and smart!\");\n",
       "    output.innerText += this.name + \" is a \" + this.kind + \" and is very friendly and smart!\\n\";\n",
       "  }\n",
       "}\n",
       "\n",
       "// Step 2: Create a list to hold all the animals in the zoo\n",
       "let zoo = [];\n",
       "\n",
       "// Step 3: Add some animals to the zoo\n",
       "zoo.push(new Animal(\"Bob\", \"Woof\", \"Dog\"));\n",
       "zoo.push(new Animal(\"Timmy\", \"Meow\", \"Cat\"));\n",
       "zoo.push(new Animal(\"Robert\", \"Squawk\", \"Parrot\"));\n",
       "zoo.push(new Animal(\"Salma\", \"Oink\", \"Pig\"));\n",
       "\n",
       "\n",
       "zoo.forEach(animal => {\n",
       "  animal.speak();\n",
       "  animal.describe();\n",
       "});\n",
       "\n",
       "let name = prompt(\"Enter the animal's name: \");\n",
       "let sound = prompt(\"Enter the sound it makes: \");\n",
       "let kind = prompt(\"Enter the kind of animal: \");\n",
       "let newAnimal = new Animal(name, sound, kind);\n",
       "zoo.push(newAnimal);\n",
       "newAnimal.speak();\n",
       "newAnimal.describe();\n",
       "\n",
       "})();\n",
       "</script>\n",
       "\n"
      ],
      "text/plain": [
       "<IPython.core.display.HTML object>"
      ]
     },
     "metadata": {},
     "output_type": "display_data"
    }
   ],
   "source": [
    "%%html\n",
    "\n",
    "<div>\n",
    "  <h3>Program Output</h3>\n",
    "  <div id=\"outputPH2\">Results will appear here:<br></div>\n",
    "</div>\n",
    "\n",
    "<script>\n",
    "\n",
    "(() => {\n",
    "\n",
    "const output = document.getElementById(\"outputPH2\");\n",
    "\n",
    "\n",
    "class Animal {\n",
    "  // Initialize each animal with a name, sound, and type\n",
    "  constructor(name, sound, kind) {\n",
    "    this.name = name;\n",
    "    this.sound = sound;\n",
    "    this.kind = kind;\n",
    "  }\n",
    "\n",
    "  // Make the animal speak\n",
    "  speak() {\n",
    "    console.log(this.name + \" the \" + this.kind + \" says \" + this.sound + \"!\");\n",
    "    output.innerText += this.name + \" the \" + this.kind + \" says \" + this.sound + \"!\\n\";\n",
    "  }\n",
    "\n",
    "  // Bonus method: describe the animal\n",
    "  describe() {\n",
    "    console.log(this.name + \" is a \" + this.kind + \" and is very friendly and smart!\");\n",
    "    output.innerText += this.name + \" is a \" + this.kind + \" and is very friendly and smart!\\n\";\n",
    "  }\n",
    "}\n",
    "\n",
    "// Step 2: Create a list to hold all the animals in the zoo\n",
    "let zoo = [];\n",
    "\n",
    "// Step 3: Add some animals to the zoo\n",
    "zoo.push(new Animal(\"Bob\", \"Woof\", \"Dog\"));\n",
    "zoo.push(new Animal(\"Timmy\", \"Meow\", \"Cat\"));\n",
    "zoo.push(new Animal(\"Robert\", \"Squawk\", \"Parrot\"));\n",
    "zoo.push(new Animal(\"Salma\", \"Oink\", \"Pig\"));\n",
    "\n",
    "\n",
    "zoo.forEach(animal => {\n",
    "  animal.speak();\n",
    "  animal.describe();\n",
    "});\n",
    "\n",
    "let name = prompt(\"Enter the animal's name: \");\n",
    "let sound = prompt(\"Enter the sound it makes: \");\n",
    "let kind = prompt(\"Enter the kind of animal: \");\n",
    "let newAnimal = new Animal(name, sound, kind);\n",
    "zoo.push(newAnimal);\n",
    "newAnimal.speak();\n",
    "newAnimal.describe();\n",
    "\n",
    "})();\n",
    "</script>\n",
    "\n"
   ]
  },
  {
   "cell_type": "markdown",
   "id": "efc35c8b",
   "metadata": {},
   "source": [
    "## Homework"
   ]
  },
  {
   "cell_type": "code",
   "execution_count": null,
   "id": "c47afda8",
   "metadata": {},
   "outputs": [
    {
     "data": {
      "application/javascript": "\n// Step 1: Make a list of choices\nconst choices = [\"rock\", \"paper\", \"scissors\"];\n\n// Step 2: Ask the user for their choice (browser version with prompt)\nlet userChoice = prompt(\"Choose rock, paper, or scissors: \").toLowerCase();\n\n// Step 3: Computer picks a random choice\nconst computerChoice = choices[Math.floor(Math.random() * choices.length)];\nconsole.log(\"Computer chose: \", computerChoice);\n\n// Step 4: Compare userChoice and computerChoice\nif (userChoice === computerChoice) {\n  console.log(\"It's a tie!\");\n} else if (userChoice === \"rock\" && computerChoice === \"scissors\") {\n  console.log(\"You win!\");\n} else if (userChoice === \"scissors\" && computerChoice === \"paper\") {\n  console.log(\"You win!\");\n} else if (userChoice === \"paper\" && computerChoice === \"rock\") {\n  console.log(\"You win!\");\n} else {\n  console.log(\"You lose!\");\n}\n\n// Bonus: Put the whole game in a loop\n// Uncomment to play multiple rounds in browser\n\nwhile (true) {\n  let userChoice = prompt(\"Choose rock, paper, or scissors: \");\n}\n",
      "text/plain": [
       "<IPython.core.display.Javascript object>"
      ]
     },
     "metadata": {},
     "output_type": "display_data"
    }
   ],
   "source": [
    "%%javascript\n",
    "\n",
    "// Step 1: Make a list of choices\n",
    "const choices = [\"rock\", \"paper\", \"scissors\"];\n",
    "\n",
    "// Step 2: Ask the user for their choice (browser version with prompt)\n",
    "let userChoice = prompt(\"Choose rock, paper, or scissors: \").toLowerCase();\n",
    "\n",
    "// Step 3: Computer picks a random choice\n",
    "const computerChoice = choices[Math.floor(Math.random() * choices.length)];\n",
    "console.log(\"Computer chose: \", computerChoice);\n",
    "\n",
    "// Step 4: Compare userChoice and computerChoice\n",
    "if (userChoice === computerChoice) {\n",
    "  console.log(\"It's a tie!\");\n",
    "} else if (userChoice === \"rock\" && computerChoice === \"scissors\") {\n",
    "  console.log(\"You win!\");\n",
    "} else if (userChoice === \"scissors\" && computerChoice === \"paper\") {\n",
    "  console.log(\"You win!\");\n",
    "} else if (userChoice === \"paper\" && computerChoice === \"rock\") {\n",
    "  console.log(\"You win!\");\n",
    "} else {\n",
    "  console.log(\"You lose!\");\n",
    "}\n",
    "\n",
    "// Bonus: Put the whole game in a loop\n",
    "// Uncomment to play multiple rounds in browser\n",
    "\n",
    "while (true) {\n",
    "  let userChoice = prompt(\"Choose rock, paper, or scissors: \");\n",
    "}\n",
    "\n"
   ]
  },
  {
   "cell_type": "markdown",
   "id": "b0c99301",
   "metadata": {},
   "source": [
    "## Submission!"
   ]
  },
  {
   "cell_type": "markdown",
   "id": "2c838d30",
   "metadata": {},
   "source": [
    "https://forms.gle/2aPP6CXFdQnNaE7GA"
   ]
  }
 ],
 "metadata": {
  "kernelspec": {
   "display_name": "venv",
   "language": "python",
   "name": "python3"
  },
  "language_info": {
   "codemirror_mode": {
    "name": "ipython",
    "version": 3
   },
   "file_extension": ".py",
   "mimetype": "text/x-python",
   "name": "python",
   "nbconvert_exporter": "python",
   "pygments_lexer": "ipython3",
   "version": "3.12.3"
  }
 },
 "nbformat": 4,
 "nbformat_minor": 5
}
